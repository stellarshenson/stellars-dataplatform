{
 "cells": [
  {
   "cell_type": "code",
   "execution_count": 2,
   "id": "0b2e05c8-09ff-46d7-aa7f-9657db3d8743",
   "metadata": {},
   "outputs": [
    {
     "data": {
      "text/plain": [
       "{'id': 7,\n",
       " 'name': None,\n",
       " 'appId': None,\n",
       " 'owner': None,\n",
       " 'proxyUser': None,\n",
       " 'state': 'starting',\n",
       " 'kind': 'sparkr',\n",
       " 'appInfo': {'driverLogUrl': None, 'sparkUiUrl': None},\n",
       " 'log': ['stdout: ', '\\nstderr: ']}"
      ]
     },
     "execution_count": 2,
     "metadata": {},
     "output_type": "execute_result"
    }
   ],
   "source": [
    "import json, pprint, requests, textwrap\n",
    "host = 'http://livy:8998'\n",
    "data = {'kind': 'sparkr'}\n",
    "headers = {'Content-Type': 'application/json'}\n",
    "r = requests.post(host + '/sessions', data=json.dumps(data), headers=headers)\n",
    "r.json()"
   ]
  },
  {
   "cell_type": "code",
   "execution_count": 3,
   "id": "c207ac3f-2d31-4238-815b-def24a9b7efb",
   "metadata": {},
   "outputs": [
    {
     "data": {
      "text/plain": [
       "{'id': 7,\n",
       " 'name': None,\n",
       " 'appId': None,\n",
       " 'owner': None,\n",
       " 'proxyUser': None,\n",
       " 'state': 'starting',\n",
       " 'kind': 'sparkr',\n",
       " 'appInfo': {'driverLogUrl': None, 'sparkUiUrl': None},\n",
       " 'log': ['2021-06-10 14:21:49,721 INFO netty.NettyBlockTransferService: Server created on 907775b4353c:42025',\n",
       "  '2021-06-10 14:21:49,723 INFO storage.BlockManager: Using org.apache.spark.storage.RandomBlockReplicationPolicy for block replication policy',\n",
       "  '2021-06-10 14:21:49,778 INFO storage.BlockManagerMaster: Registering BlockManager BlockManagerId(driver, 907775b4353c, 42025, None)',\n",
       "  '2021-06-10 14:21:49,783 INFO storage.BlockManagerMasterEndpoint: Registering block manager 907775b4353c:42025 with 366.3 MB RAM, BlockManagerId(driver, 907775b4353c, 42025, None)',\n",
       "  '2021-06-10 14:21:49,787 INFO storage.BlockManagerMaster: Registered BlockManager BlockManagerId(driver, 907775b4353c, 42025, None)',\n",
       "  '2021-06-10 14:21:49,788 INFO storage.BlockManager: Initialized BlockManager: BlockManagerId(driver, 907775b4353c, 42025, None)',\n",
       "  '2021-06-10 14:21:49,816 INFO handler.ContextHandler: Started o.s.j.s.ServletContextHandler@28640fc4{/metrics/json,null,AVAILABLE,@Spark}',\n",
       "  '2021-06-10 14:21:49,848 INFO cluster.StandaloneSchedulerBackend: SchedulerBackend is ready for scheduling beginning after reached minRegisteredResourcesRatio: 0.0',\n",
       "  '2021-06-10 14:21:49,860 INFO driver.SparkEntries: Spark context finished initialization in 1798ms',\n",
       "  '2021-06-10 14:21:49,941 INFO driver.SparkEntries: Created Spark session.']}"
      ]
     },
     "execution_count": 3,
     "metadata": {},
     "output_type": "execute_result"
    }
   ],
   "source": [
    "session_url = host + r.headers['location']\n",
    "r = requests.get(session_url, headers=headers)\n",
    "r.json()"
   ]
  },
  {
   "cell_type": "code",
   "execution_count": null,
   "id": "0624b18c-1323-49a5-aa7f-6c23c50bcbdc",
   "metadata": {},
   "outputs": [],
   "source": [
    "data = {\n",
    "  'code': textwrap.dedent(\"\"\"\n",
    "    n <- 100000\n",
    "    piFunc <- function(elem) {\n",
    "      rands <- runif(n = 2, min = -1, max = 1)\n",
    "      val <- ifelse((rands[1]^2 + rands[2]^2) < 1, 1.0, 0.0)\n",
    "      val\n",
    "    }\n",
    "    piFuncVec <- function(elems) {\n",
    "      message(length(elems))\n",
    "      rands1 <- runif(n = length(elems), min = -1, max = 1)\n",
    "      rands2 <- runif(n = length(elems), min = -1, max = 1)\n",
    "      val <- ifelse((rands1^2 + rands2^2) < 1, 1.0, 0.0)\n",
    "      sum(val)\n",
    "    }\n",
    "    rdd <- parallelize(sc, 1:n, slices)\n",
    "    count <- reduce(lapplyPartition(rdd, piFuncVec), sum)\n",
    "    cat(\"Pi is roughly\", 4.0 * count / n, \"\\n\")\n",
    "    \"\"\")\n",
    "}\n",
    "\n",
    "r = requests.post(statements_url, data=json.dumps(data), headers=headers)\n",
    "pprint.pprint(r.json())"
   ]
  }
 ],
 "metadata": {
  "kernelspec": {
   "display_name": "Python 3",
   "language": "python",
   "name": "python3"
  },
  "language_info": {
   "codemirror_mode": {
    "name": "ipython",
    "version": 3
   },
   "file_extension": ".py",
   "mimetype": "text/x-python",
   "name": "python",
   "nbconvert_exporter": "python",
   "pygments_lexer": "ipython3",
   "version": "3.9.4"
  }
 },
 "nbformat": 4,
 "nbformat_minor": 5
}
