{
 "cells": [
  {
   "cell_type": "code",
   "execution_count": 1,
   "id": "3b4de6ac-fa6a-4a53-91f9-e7726534c692",
   "metadata": {},
   "outputs": [
    {
     "data": {
      "text/plain": [
       "{'id': 0,\n",
       " 'appId': None,\n",
       " 'owner': None,\n",
       " 'proxyUser': None,\n",
       " 'state': 'starting',\n",
       " 'kind': 'pyspark',\n",
       " 'appInfo': {'driverLogUrl': None, 'sparkUiUrl': None},\n",
       " 'log': ['stdout: ', '\\nstderr: ']}"
      ]
     },
     "execution_count": 1,
     "metadata": {},
     "output_type": "execute_result"
    }
   ],
   "source": [
    "import json, pprint, requests, textwrap\n",
    "host = 'http://livy:8998'\n",
    "data = {'kind': 'pyspark'}\n",
    "headers = {'Content-Type': 'application/json'}\n",
    "r = requests.post(host + '/sessions', data=json.dumps(data), headers=headers)\n",
    "r.json()"
   ]
  },
  {
   "cell_type": "code",
   "execution_count": 4,
   "id": "8c6ebbab-7276-4d12-8ce2-3a1af88cdf64",
   "metadata": {},
   "outputs": [
    {
     "data": {
      "text/plain": [
       "{'id': 0,\n",
       " 'appId': None,\n",
       " 'owner': None,\n",
       " 'proxyUser': None,\n",
       " 'state': 'idle',\n",
       " 'kind': 'pyspark',\n",
       " 'appInfo': {'driverLogUrl': None, 'sparkUiUrl': None},\n",
       " 'log': ['2021-06-10 15:44:45 INFO  BlockManagerMaster:54 - Registered BlockManager BlockManagerId(driver, fc1455a02e8a, 38355, None)',\n",
       "  '2021-06-10 15:44:45 INFO  BlockManager:54 - Initialized BlockManager: BlockManagerId(driver, fc1455a02e8a, 38355, None)',\n",
       "  '2021-06-10 15:44:45 INFO  StandaloneAppClient$ClientEndpoint:54 - Executor updated: app-20210610154445-0000/0 is now RUNNING',\n",
       "  '2021-06-10 15:44:45 INFO  ContextHandler:781 - Started o.s.j.s.ServletContextHandler@6521c475{/metrics/json,null,AVAILABLE,@Spark}',\n",
       "  '2021-06-10 15:44:45 INFO  StandaloneSchedulerBackend:54 - SchedulerBackend is ready for scheduling beginning after reached minRegisteredResourcesRatio: 0.0',\n",
       "  '2021-06-10 15:44:45 INFO  SparkEntries:53 - Spark context finished initialization in 2455ms',\n",
       "  '2021-06-10 15:44:45 INFO  SparkEntries:96 - Created Spark session.',\n",
       "  '2021-06-10 15:44:49 INFO  CoarseGrainedSchedulerBackend$DriverEndpoint:54 - Registered executor NettyRpcEndpointRef(spark-client://Executor) (172.21.0.4:55706) with ID 0',\n",
       "  '2021-06-10 15:44:49 INFO  BlockManagerMasterEndpoint:54 - Registering block manager 172.21.0.4:36137 with 366.3 MB RAM, BlockManagerId(0, 172.21.0.4, 36137, None)',\n",
       "  '\\nstderr: ']}"
      ]
     },
     "execution_count": 4,
     "metadata": {},
     "output_type": "execute_result"
    }
   ],
   "source": [
    "session_url = host + r.headers['location']\n",
    "r2 = requests.get(session_url, headers=headers)\n",
    "r2.json()"
   ]
  },
  {
   "cell_type": "code",
   "execution_count": 5,
   "id": "a0f9d114-9989-44cc-8192-09884827007d",
   "metadata": {},
   "outputs": [
    {
     "name": "stdout",
     "output_type": "stream",
     "text": [
      "{'code': '\\nprint(\"hello world\")\\n',\n",
      " 'id': 0,\n",
      " 'output': None,\n",
      " 'progress': 0.0,\n",
      " 'state': 'waiting'}\n"
     ]
    }
   ],
   "source": [
    "statements_url = session_url + '/statements'\n",
    "\n",
    "data = {\n",
    "  'code': textwrap.dedent(\"\"\"\n",
    "    1+1\n",
    "    \"\"\")\n",
    "}\n",
    "r = requests.post(statements_url, data=json.dumps(data), headers=headers)\n",
    "pprint.pprint(r.json())"
   ]
  },
  {
   "cell_type": "code",
   "execution_count": null,
   "id": "d8637e8f-8bfc-48df-9c2d-def1d13ee2d9",
   "metadata": {},
   "outputs": [],
   "source": []
  }
 ],
 "metadata": {
  "kernelspec": {
   "display_name": "Python 3",
   "language": "python",
   "name": "python3"
  },
  "language_info": {
   "codemirror_mode": {
    "name": "ipython",
    "version": 3
   },
   "file_extension": ".py",
   "mimetype": "text/x-python",
   "name": "python",
   "nbconvert_exporter": "python",
   "pygments_lexer": "ipython3",
   "version": "3.9.4"
  }
 },
 "nbformat": 4,
 "nbformat_minor": 5
}
