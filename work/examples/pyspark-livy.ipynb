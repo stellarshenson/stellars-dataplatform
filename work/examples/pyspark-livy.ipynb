{
 "cells": [
  {
   "cell_type": "code",
   "execution_count": 1,
   "id": "3b4de6ac-fa6a-4a53-91f9-e7726534c692",
   "metadata": {},
   "outputs": [
    {
     "data": {
      "text/plain": [
       "{'id': 0,\n",
       " 'appId': None,\n",
       " 'owner': None,\n",
       " 'proxyUser': None,\n",
       " 'state': 'starting',\n",
       " 'kind': 'sparkr',\n",
       " 'appInfo': {'driverLogUrl': None, 'sparkUiUrl': None},\n",
       " 'log': ['stdout: ', '\\nstderr: ']}"
      ]
     },
     "execution_count": 1,
     "metadata": {},
     "output_type": "execute_result"
    }
   ],
   "source": [
    "import json, pprint, requests, textwrap\n",
    "host = 'http://livy:8998'\n",
    "data = {'kind': 'sparkr'}\n",
    "headers = {'Content-Type': 'application/json'}\n",
    "r = requests.post(host + '/sessions', data=json.dumps(data), headers=headers)\n",
    "r.json()"
   ]
  },
  {
   "cell_type": "code",
   "execution_count": 2,
   "id": "8c6ebbab-7276-4d12-8ce2-3a1af88cdf64",
   "metadata": {},
   "outputs": [
    {
     "data": {
      "text/plain": [
       "{'id': 0,\n",
       " 'appId': None,\n",
       " 'owner': None,\n",
       " 'proxyUser': None,\n",
       " 'state': 'starting',\n",
       " 'kind': 'sparkr',\n",
       " 'appInfo': {'driverLogUrl': None, 'sparkUiUrl': None},\n",
       " 'log': ['stdout: ',\n",
       "  '2021-06-11 22:11:33 WARN  NativeCodeLoader:62 - Unable to load native-hadoop library for your platform... using builtin-java classes where applicable',\n",
       "  '2021-06-11 22:11:33 INFO  RSCDriver:157 - Connecting to: c3369c5e72ad:10000',\n",
       "  '2021-06-11 22:11:33 INFO  RSCDriver:179 - Starting RPC server...',\n",
       "  '2021-06-11 22:11:33 INFO  RpcServer:105 - Connected to the port 10001',\n",
       "  \"2021-06-11 22:11:33 WARN  RSCConf:146 - Your hostname, c3369c5e72ad, resolves to a loopback address, but we couldn't find any external IP address!\",\n",
       "  '2021-06-11 22:11:33 WARN  RSCConf:148 - Set livy.rsc.rpc.server.address if you need to bind to another address.',\n",
       "  '2021-06-11 22:11:33 INFO  RSCDriver:403 - Received job request d9aec0bc-eff3-4232-a2df-b493cc106b73',\n",
       "  '2021-06-11 22:11:33 INFO  RSCDriver:363 - SparkContext not yet up, queueing job request.',\n",
       "  '\\nstderr: ']}"
      ]
     },
     "execution_count": 2,
     "metadata": {},
     "output_type": "execute_result"
    }
   ],
   "source": [
    "session_url = host + r.headers['location']\n",
    "r2 = requests.get(session_url, headers=headers)\n",
    "r2.json()"
   ]
  },
  {
   "cell_type": "code",
   "execution_count": 6,
   "id": "a0f9d114-9989-44cc-8192-09884827007d",
   "metadata": {},
   "outputs": [
    {
     "name": "stdout",
     "output_type": "stream",
     "text": [
      "{'code': '\\nprint(1+1)\\n',\n",
      " 'id': 1,\n",
      " 'output': None,\n",
      " 'progress': 0.0,\n",
      " 'state': 'waiting'}\n"
     ]
    }
   ],
   "source": [
    "statements_url = session_url + '/statements'\n",
    "\n",
    "data = {\n",
    "  'code': textwrap.dedent(\"\"\"\n",
    "    print(1+1)\n",
    "    \"\"\")\n",
    "}\n",
    "r = requests.post(statements_url, data=json.dumps(data), headers=headers)\n",
    "pprint.pprint(r.json())"
   ]
  },
  {
   "cell_type": "code",
   "execution_count": null,
   "id": "d8637e8f-8bfc-48df-9c2d-def1d13ee2d9",
   "metadata": {},
   "outputs": [],
   "source": []
  }
 ],
 "metadata": {
  "kernelspec": {
   "display_name": "Python 3",
   "language": "python",
   "name": "python3"
  },
  "language_info": {
   "codemirror_mode": {
    "name": "ipython",
    "version": 3
   },
   "file_extension": ".py",
   "mimetype": "text/x-python",
   "name": "python",
   "nbconvert_exporter": "python",
   "pygments_lexer": "ipython3",
   "version": "3.9.4"
  }
 },
 "nbformat": 4,
 "nbformat_minor": 5
}
