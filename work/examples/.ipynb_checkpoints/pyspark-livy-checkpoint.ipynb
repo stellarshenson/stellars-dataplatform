{
 "cells": [
  {
   "cell_type": "code",
   "execution_count": 3,
   "id": "3b4de6ac-fa6a-4a53-91f9-e7726534c692",
   "metadata": {},
   "outputs": [
    {
     "data": {
      "text/plain": [
       "{'id': 1,\n",
       " 'name': None,\n",
       " 'appId': None,\n",
       " 'owner': None,\n",
       " 'proxyUser': None,\n",
       " 'state': 'starting',\n",
       " 'kind': 'pyspark',\n",
       " 'appInfo': {'driverLogUrl': None, 'sparkUiUrl': None},\n",
       " 'log': ['stdout: ', '\\nstderr: ']}"
      ]
     },
     "execution_count": 3,
     "metadata": {},
     "output_type": "execute_result"
    }
   ],
   "source": [
    "import json, pprint, requests, textwrap\n",
    "host = 'http://livy:8998'\n",
    "data = {'kind': 'spark'}\n",
    "headers = {'Content-Type': 'application/json'}\n",
    "r = requests.post(host + '/sessions', data=json.dumps(data), headers=headers)\n",
    "r.json()"
   ]
  },
  {
   "cell_type": "code",
   "execution_count": 4,
   "id": "8c6ebbab-7276-4d12-8ce2-3a1af88cdf64",
   "metadata": {},
   "outputs": [
    {
     "data": {
      "text/plain": [
       "{'id': 1,\n",
       " 'name': None,\n",
       " 'appId': None,\n",
       " 'owner': None,\n",
       " 'proxyUser': None,\n",
       " 'state': 'dead',\n",
       " 'kind': 'pyspark',\n",
       " 'appInfo': {'driverLogUrl': None, 'sparkUiUrl': None},\n",
       " 'log': ['\\tat org.apache.spark.deploy.SparkSubmit.submit(SparkSubmit.scala:203)',\n",
       "  '\\tat org.apache.spark.deploy.SparkSubmit.doSubmit(SparkSubmit.scala:90)',\n",
       "  '\\tat org.apache.spark.deploy.SparkSubmit$$anon$2.doSubmit(SparkSubmit.scala:1030)',\n",
       "  '\\tat org.apache.spark.deploy.SparkSubmit$.main(SparkSubmit.scala:1039)',\n",
       "  '\\tat org.apache.spark.deploy.SparkSubmit.main(SparkSubmit.scala)',\n",
       "  'Caused by: java.lang.ClassNotFoundException: scala.Function0$class',\n",
       "  '\\tat java.net.URLClassLoader.findClass(URLClassLoader.java:382)',\n",
       "  '\\tat java.lang.ClassLoader.loadClass(ClassLoader.java:418)',\n",
       "  '\\tat java.lang.ClassLoader.loadClass(ClassLoader.java:351)',\n",
       "  '\\t... 20 more']}"
      ]
     },
     "execution_count": 4,
     "metadata": {},
     "output_type": "execute_result"
    }
   ],
   "source": [
    "session_url = host + r.headers['location']\n",
    "r2 = requests.get(session_url, headers=headers)\n",
    "r2.json()"
   ]
  },
  {
   "cell_type": "code",
   "execution_count": 6,
   "id": "a0f9d114-9989-44cc-8192-09884827007d",
   "metadata": {},
   "outputs": [
    {
     "name": "stdout",
     "output_type": "stream",
     "text": [
      "{'code': '\\nprint(1+1)\\n',\n",
      " 'id': 1,\n",
      " 'output': None,\n",
      " 'progress': 0.0,\n",
      " 'state': 'waiting'}\n"
     ]
    }
   ],
   "source": [
    "statements_url = session_url + '/statements'\n",
    "\n",
    "data = {\n",
    "  'code': textwrap.dedent(\"\"\"\n",
    "    print(1+1)\n",
    "    \"\"\")\n",
    "}\n",
    "r = requests.post(statements_url, data=json.dumps(data), headers=headers)\n",
    "pprint.pprint(r.json())"
   ]
  },
  {
   "cell_type": "code",
   "execution_count": null,
   "id": "d8637e8f-8bfc-48df-9c2d-def1d13ee2d9",
   "metadata": {},
   "outputs": [],
   "source": []
  }
 ],
 "metadata": {
  "kernelspec": {
   "display_name": "Python 3",
   "language": "python",
   "name": "python3"
  },
  "language_info": {
   "codemirror_mode": {
    "name": "ipython",
    "version": 3
   },
   "file_extension": ".py",
   "mimetype": "text/x-python",
   "name": "python",
   "nbconvert_exporter": "python",
   "pygments_lexer": "ipython3",
   "version": "3.9.4"
  }
 },
 "nbformat": 4,
 "nbformat_minor": 5
}
